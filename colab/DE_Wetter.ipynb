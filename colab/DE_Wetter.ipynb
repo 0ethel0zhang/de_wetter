{
  "nbformat": 4,
  "nbformat_minor": 0,
  "metadata": {
    "colab": {
      "provenance": [],
      "authorship_tag": "ABX9TyNdJCowVQQKdWbScDrxRc5a",
      "include_colab_link": true
    },
    "kernelspec": {
      "name": "python3",
      "display_name": "Python 3"
    },
    "language_info": {
      "name": "python"
    }
  },
  "cells": [
    {
      "cell_type": "markdown",
      "metadata": {
        "id": "view-in-github",
        "colab_type": "text"
      },
      "source": [
        "<a href=\"https://colab.research.google.com/github/0ethel0zhang/de_wetter/blob/main/colab/DE_Wetter.ipynb\" target=\"_parent\"><img src=\"https://colab.research.google.com/assets/colab-badge.svg\" alt=\"Open In Colab\"/></a>"
      ]
    },
    {
      "cell_type": "markdown",
      "source": [
        "# Macro Data"
      ],
      "metadata": {
        "id": "3e6dqDTam83Q"
      }
    },
    {
      "cell_type": "code",
      "source": [
        "import pandas as pd"
      ],
      "metadata": {
        "id": "hNYRJmSXZ0fg"
      },
      "execution_count": 1,
      "outputs": []
    },
    {
      "cell_type": "code",
      "source": [
        "df = pd.read_csv(\"https://userpage.fu-berlin.de/soga/300/30100_data_sets/DWD.csv\", \n",
        "                 sep=';', encoding = \"latin-1\")"
      ],
      "metadata": {
        "id": "OTuJp6RaZ18y"
      },
      "execution_count": 9,
      "outputs": []
    },
    {
      "cell_type": "code",
      "source": [
        "def convert_values(x):\n",
        "  try:\n",
        "    return float(x.replace(\",\", \".\"))\n",
        "  except:\n",
        "    return x"
      ],
      "metadata": {
        "id": "Pl1TOycYeFw3"
      },
      "execution_count": 53,
      "outputs": []
    },
    {
      "cell_type": "code",
      "source": [
        "df = df.applymap(convert_values)"
      ],
      "metadata": {
        "id": "jNpR9hPod3Vk"
      },
      "execution_count": 55,
      "outputs": []
    },
    {
      "cell_type": "code",
      "source": [
        "df[\"FEDERAL STATE\"].value_counts()"
      ],
      "metadata": {
        "colab": {
          "base_uri": "https://localhost:8080/"
        },
        "id": "niNacn9tbHhg",
        "outputId": "3306550e-0bc9-4f7b-b124-34da5f38d961"
      },
      "execution_count": 20,
      "outputs": [
        {
          "output_type": "execute_result",
          "data": {
            "text/plain": [
              "Bayern                    117\n",
              "Baden-Württemberg          87\n",
              "Hessen                     55\n",
              "Niedersachsen              53\n",
              "Nordrhein-Westfalen        46\n",
              "Rheinland-Pfalz            39\n",
              "Sachsen                    37\n",
              "Schleswig-Holstein         37\n",
              "Sachsen-Anhalt             32\n",
              "Thüringen                  24\n",
              "Mecklenburg-Vorpommern     24\n",
              "Brandenburg                23\n",
              "Saarland                   10\n",
              "Hamburg                     7\n",
              "Berlin                      6\n",
              "Bremen                      2\n",
              "Name: FEDERAL STATE, dtype: int64"
            ]
          },
          "metadata": {},
          "execution_count": 20
        }
      ]
    },
    {
      "cell_type": "code",
      "source": [
        "df[(df[\"FEDERAL STATE\"] == \"Bayern\") & (df[\"STATION NAME\"].str.contains(\"München\"))]\n",
        "# Munich's weather will have the DWD_ID 3379 for München-Stadt\n",
        "munich_id = 3379"
      ],
      "metadata": {
        "id": "3uYBA5esbM2Z"
      },
      "execution_count": 29,
      "outputs": []
    },
    {
      "cell_type": "code",
      "source": [
        "df[df[\"STATION NAME\"].str.contains(\"Berlin\")]\n",
        "# Berlin's weather will be proximated by the DWD_ID 433 for Berlin-Tempelhof for the latest data (2016)\n",
        "berlin_id = 433"
      ],
      "metadata": {
        "id": "K1aT6oCcbXiA"
      },
      "execution_count": 33,
      "outputs": []
    },
    {
      "cell_type": "code",
      "source": [
        "df[(df[\"STATION NAME\"].str.contains(\"Hamburg\"))]\n",
        "# Hamburg-Fuhlsbüttel\n",
        "hamburg_id = 1975"
      ],
      "metadata": {
        "id": "cil3aEsaf9YG"
      },
      "execution_count": 64,
      "outputs": []
    },
    {
      "cell_type": "code",
      "source": [
        "df[df.DWD_ID.isin([munich_id, berlin_id, hamburg_id])][['STATION NAME',\n",
        "  'MEAN ANNUAL AIR TEMP',\n",
        "  'MEAN MONTHLY MAX TEMP', 'MEAN MONTHLY MIN TEMP',\n",
        "  'MEAN ANNUAL WIND SPEED', 'MEAN CLOUD COVER', 'MEAN ANNUAL SUNSHINE',\n",
        "  'MEAN ANNUAL RAINFALL', 'MAX MONTHLY WIND SPEED', 'MAX AIR TEMP',\n",
        "  'MAX WIND SPEED', 'MAX RAINFALL', 'MIN AIR TEMP',\n",
        "  'MEAN RANGE AIR TEMP']]"
      ],
      "metadata": {
        "colab": {
          "base_uri": "https://localhost:8080/",
          "height": 292
        },
        "id": "TFRYSdqKc9p3",
        "outputId": "01d6bed5-7324-49d4-d3aa-ae7477e676c0"
      },
      "execution_count": 65,
      "outputs": [
        {
          "output_type": "execute_result",
          "data": {
            "text/plain": [
              "            STATION NAME  MEAN ANNUAL AIR TEMP  MEAN MONTHLY MAX TEMP  \\\n",
              "46      Berlin-Tempelhof                   9.6                   13.4   \n",
              "207  Hamburg-Fuhlsbüttel                   8.9                   12.7   \n",
              "361        München-Stadt                   9.5                   13.6   \n",
              "\n",
              "     MEAN MONTHLY MIN TEMP  MEAN ANNUAL WIND SPEED  MEAN CLOUD COVER  \\\n",
              "46                     5.8                     3.0              66.0   \n",
              "207                    5.0                     3.0              69.0   \n",
              "361                    5.5                     2.0              65.0   \n",
              "\n",
              "     MEAN ANNUAL SUNSHINE  MEAN ANNUAL RAINFALL  MAX MONTHLY WIND SPEED  \\\n",
              "46                 1651.0                 578.0                     3.0   \n",
              "207                1569.0                 756.0                     4.0   \n",
              "361                1735.0                 955.0                     2.0   \n",
              "\n",
              "     MAX AIR TEMP  MAX WIND SPEED  MAX RAINFALL  MIN AIR TEMP  \\\n",
              "46           33.7            27.5          36.0         -13.7   \n",
              "207          32.0            27.5          35.0         -14.0   \n",
              "361          33.0            28.1          52.0         -13.8   \n",
              "\n",
              "     MEAN RANGE AIR TEMP  \n",
              "46                   7.6  \n",
              "207                  7.7  \n",
              "361                  8.1  "
            ],
            "text/html": [
              "\n",
              "  <div id=\"df-506fd4d6-00c7-4570-ad19-ac0e10478c96\">\n",
              "    <div class=\"colab-df-container\">\n",
              "      <div>\n",
              "<style scoped>\n",
              "    .dataframe tbody tr th:only-of-type {\n",
              "        vertical-align: middle;\n",
              "    }\n",
              "\n",
              "    .dataframe tbody tr th {\n",
              "        vertical-align: top;\n",
              "    }\n",
              "\n",
              "    .dataframe thead th {\n",
              "        text-align: right;\n",
              "    }\n",
              "</style>\n",
              "<table border=\"1\" class=\"dataframe\">\n",
              "  <thead>\n",
              "    <tr style=\"text-align: right;\">\n",
              "      <th></th>\n",
              "      <th>STATION NAME</th>\n",
              "      <th>MEAN ANNUAL AIR TEMP</th>\n",
              "      <th>MEAN MONTHLY MAX TEMP</th>\n",
              "      <th>MEAN MONTHLY MIN TEMP</th>\n",
              "      <th>MEAN ANNUAL WIND SPEED</th>\n",
              "      <th>MEAN CLOUD COVER</th>\n",
              "      <th>MEAN ANNUAL SUNSHINE</th>\n",
              "      <th>MEAN ANNUAL RAINFALL</th>\n",
              "      <th>MAX MONTHLY WIND SPEED</th>\n",
              "      <th>MAX AIR TEMP</th>\n",
              "      <th>MAX WIND SPEED</th>\n",
              "      <th>MAX RAINFALL</th>\n",
              "      <th>MIN AIR TEMP</th>\n",
              "      <th>MEAN RANGE AIR TEMP</th>\n",
              "    </tr>\n",
              "  </thead>\n",
              "  <tbody>\n",
              "    <tr>\n",
              "      <th>46</th>\n",
              "      <td>Berlin-Tempelhof</td>\n",
              "      <td>9.6</td>\n",
              "      <td>13.4</td>\n",
              "      <td>5.8</td>\n",
              "      <td>3.0</td>\n",
              "      <td>66.0</td>\n",
              "      <td>1651.0</td>\n",
              "      <td>578.0</td>\n",
              "      <td>3.0</td>\n",
              "      <td>33.7</td>\n",
              "      <td>27.5</td>\n",
              "      <td>36.0</td>\n",
              "      <td>-13.7</td>\n",
              "      <td>7.6</td>\n",
              "    </tr>\n",
              "    <tr>\n",
              "      <th>207</th>\n",
              "      <td>Hamburg-Fuhlsbüttel</td>\n",
              "      <td>8.9</td>\n",
              "      <td>12.7</td>\n",
              "      <td>5.0</td>\n",
              "      <td>3.0</td>\n",
              "      <td>69.0</td>\n",
              "      <td>1569.0</td>\n",
              "      <td>756.0</td>\n",
              "      <td>4.0</td>\n",
              "      <td>32.0</td>\n",
              "      <td>27.5</td>\n",
              "      <td>35.0</td>\n",
              "      <td>-14.0</td>\n",
              "      <td>7.7</td>\n",
              "    </tr>\n",
              "    <tr>\n",
              "      <th>361</th>\n",
              "      <td>München-Stadt</td>\n",
              "      <td>9.5</td>\n",
              "      <td>13.6</td>\n",
              "      <td>5.5</td>\n",
              "      <td>2.0</td>\n",
              "      <td>65.0</td>\n",
              "      <td>1735.0</td>\n",
              "      <td>955.0</td>\n",
              "      <td>2.0</td>\n",
              "      <td>33.0</td>\n",
              "      <td>28.1</td>\n",
              "      <td>52.0</td>\n",
              "      <td>-13.8</td>\n",
              "      <td>8.1</td>\n",
              "    </tr>\n",
              "  </tbody>\n",
              "</table>\n",
              "</div>\n",
              "      <button class=\"colab-df-convert\" onclick=\"convertToInteractive('df-506fd4d6-00c7-4570-ad19-ac0e10478c96')\"\n",
              "              title=\"Convert this dataframe to an interactive table.\"\n",
              "              style=\"display:none;\">\n",
              "        \n",
              "  <svg xmlns=\"http://www.w3.org/2000/svg\" height=\"24px\"viewBox=\"0 0 24 24\"\n",
              "       width=\"24px\">\n",
              "    <path d=\"M0 0h24v24H0V0z\" fill=\"none\"/>\n",
              "    <path d=\"M18.56 5.44l.94 2.06.94-2.06 2.06-.94-2.06-.94-.94-2.06-.94 2.06-2.06.94zm-11 1L8.5 8.5l.94-2.06 2.06-.94-2.06-.94L8.5 2.5l-.94 2.06-2.06.94zm10 10l.94 2.06.94-2.06 2.06-.94-2.06-.94-.94-2.06-.94 2.06-2.06.94z\"/><path d=\"M17.41 7.96l-1.37-1.37c-.4-.4-.92-.59-1.43-.59-.52 0-1.04.2-1.43.59L10.3 9.45l-7.72 7.72c-.78.78-.78 2.05 0 2.83L4 21.41c.39.39.9.59 1.41.59.51 0 1.02-.2 1.41-.59l7.78-7.78 2.81-2.81c.8-.78.8-2.07 0-2.86zM5.41 20L4 18.59l7.72-7.72 1.47 1.35L5.41 20z\"/>\n",
              "  </svg>\n",
              "      </button>\n",
              "      \n",
              "  <style>\n",
              "    .colab-df-container {\n",
              "      display:flex;\n",
              "      flex-wrap:wrap;\n",
              "      gap: 12px;\n",
              "    }\n",
              "\n",
              "    .colab-df-convert {\n",
              "      background-color: #E8F0FE;\n",
              "      border: none;\n",
              "      border-radius: 50%;\n",
              "      cursor: pointer;\n",
              "      display: none;\n",
              "      fill: #1967D2;\n",
              "      height: 32px;\n",
              "      padding: 0 0 0 0;\n",
              "      width: 32px;\n",
              "    }\n",
              "\n",
              "    .colab-df-convert:hover {\n",
              "      background-color: #E2EBFA;\n",
              "      box-shadow: 0px 1px 2px rgba(60, 64, 67, 0.3), 0px 1px 3px 1px rgba(60, 64, 67, 0.15);\n",
              "      fill: #174EA6;\n",
              "    }\n",
              "\n",
              "    [theme=dark] .colab-df-convert {\n",
              "      background-color: #3B4455;\n",
              "      fill: #D2E3FC;\n",
              "    }\n",
              "\n",
              "    [theme=dark] .colab-df-convert:hover {\n",
              "      background-color: #434B5C;\n",
              "      box-shadow: 0px 1px 3px 1px rgba(0, 0, 0, 0.15);\n",
              "      filter: drop-shadow(0px 1px 2px rgba(0, 0, 0, 0.3));\n",
              "      fill: #FFFFFF;\n",
              "    }\n",
              "  </style>\n",
              "\n",
              "      <script>\n",
              "        const buttonEl =\n",
              "          document.querySelector('#df-506fd4d6-00c7-4570-ad19-ac0e10478c96 button.colab-df-convert');\n",
              "        buttonEl.style.display =\n",
              "          google.colab.kernel.accessAllowed ? 'block' : 'none';\n",
              "\n",
              "        async function convertToInteractive(key) {\n",
              "          const element = document.querySelector('#df-506fd4d6-00c7-4570-ad19-ac0e10478c96');\n",
              "          const dataTable =\n",
              "            await google.colab.kernel.invokeFunction('convertToInteractive',\n",
              "                                                     [key], {});\n",
              "          if (!dataTable) return;\n",
              "\n",
              "          const docLinkHtml = 'Like what you see? Visit the ' +\n",
              "            '<a target=\"_blank\" href=https://colab.research.google.com/notebooks/data_table.ipynb>data table notebook</a>'\n",
              "            + ' to learn more about interactive tables.';\n",
              "          element.innerHTML = '';\n",
              "          dataTable['output_type'] = 'display_data';\n",
              "          await google.colab.output.renderOutput(dataTable, element);\n",
              "          const docLink = document.createElement('div');\n",
              "          docLink.innerHTML = docLinkHtml;\n",
              "          element.appendChild(docLink);\n",
              "        }\n",
              "      </script>\n",
              "    </div>\n",
              "  </div>\n",
              "  "
            ]
          },
          "metadata": {},
          "execution_count": 65
        }
      ]
    },
    {
      "cell_type": "markdown",
      "source": [
        "## Macro trend\n",
        "Seems like Munich rains more than Berlin (and even Hamburg). Can this be true?"
      ],
      "metadata": {
        "id": "pg_7zgz1omOx"
      }
    },
    {
      "cell_type": "markdown",
      "source": [
        "# Daily data\n",
        "More data description can be found on the **Climate Data Center** (CDC) website [here](https://opendata.dwd.de/climate_environment/CDC/observations_germany/climate/daily/more_precip/recent/DESCRIPTION_obsgermany_climate_daily_more_precip_recent_en.pdf)"
      ],
      "metadata": {
        "id": "XJRc__ABm5hl"
      }
    },
    {
      "cell_type": "code",
      "source": [
        "# https://stackoverflow.com/questions/5710867/downloading-and-unzipping-a-zip-file-without-writing-to-disk\n",
        "from io import BytesIO\n",
        "from zipfile import ZipFile\n",
        "from urllib.request import urlopen\n",
        "# or: requests.get(url).content\n",
        "def read_zipfile(url):\n",
        "  resp = urlopen(url)\n",
        "  myzip = ZipFile(BytesIO(resp.read()))\n",
        "  return myzip"
      ],
      "metadata": {
        "id": "2dVyUQfqh3zj"
      },
      "execution_count": 98,
      "outputs": []
    },
    {
      "cell_type": "code",
      "source": [
        "#@title Berlin Buch\n",
        "url_400 = \"https://opendata.dwd.de/climate_environment/CDC/observations_germany/climate/daily/more_precip/recent/tageswerte_RR_00400_akt.zip\"\n",
        "myzip = read_zipfile(url_400)\n",
        "# myzip.namelist()"
      ],
      "metadata": {
        "id": "QvAkiY0SiMw1"
      },
      "execution_count": null,
      "outputs": []
    },
    {
      "cell_type": "code",
      "source": [
        "df_400 = pd.read_csv(myzip.open('produkt_nieder_tag_20210715_20230115_00400.txt'),\n",
        "            sep=';', encoding = \"latin-1\")"
      ],
      "metadata": {
        "id": "YltFcemkk8H9"
      },
      "execution_count": 84,
      "outputs": []
    },
    {
      "cell_type": "code",
      "source": [
        "df_400[\"  RS\"].plot.hist()"
      ],
      "metadata": {
        "colab": {
          "base_uri": "https://localhost:8080/",
          "height": 283
        },
        "id": "_YPeSXTLlQ0d",
        "outputId": "6647a790-677c-4a21-dae2-80e5191c8a7e"
      },
      "execution_count": 97,
      "outputs": [
        {
          "output_type": "execute_result",
          "data": {
            "text/plain": [
              "<matplotlib.axes._subplots.AxesSubplot at 0x7f6091875580>"
            ]
          },
          "metadata": {},
          "execution_count": 97
        },
        {
          "output_type": "display_data",
          "data": {
            "text/plain": [
              "<Figure size 432x288 with 1 Axes>"
            ],
            "image/png": "[encoded data removed]"
          },
          "metadata": {
            "needs_background": "light"
          }
        }
      ]
    },
    {
      "cell_type": "code",
      "source": [
        "#@title Munich data\n",
        "url_3379 = \"https://opendata.dwd.de/climate_environment/CDC/observations_germany/climate/daily/more_precip/recent/tageswerte_RR_03379_akt.zip\"\n",
        "myzip = read_zipfile(url_3379)\n",
        "# myzip.namelist()"
      ],
      "metadata": {
        "id": "sTT5mCRilLc1"
      },
      "execution_count": null,
      "outputs": []
    },
    {
      "cell_type": "code",
      "source": [
        "df_3379 = pd.read_csv(myzip.open('produkt_nieder_tag_20210715_20230115_03379.txt'),\n",
        "            sep=';', encoding = \"latin-1\")"
      ],
      "metadata": {
        "id": "wsQo3TcLmZxy"
      },
      "execution_count": 101,
      "outputs": []
    },
    {
      "cell_type": "code",
      "source": [
        "df_3379[\"  RS\"].plot.hist()"
      ],
      "metadata": {
        "colab": {
          "base_uri": "https://localhost:8080/",
          "height": 283
        },
        "id": "33tLHX0ei1aI",
        "outputId": "e864344b-8f69-4542-ea57-d22983da8e38"
      },
      "execution_count": 103,
      "outputs": [
        {
          "output_type": "execute_result",
          "data": {
            "text/plain": [
              "<matplotlib.axes._subplots.AxesSubplot at 0x7f609125e040>"
            ]
          },
          "metadata": {},
          "execution_count": 103
        },
        {
          "output_type": "display_data",
          "data": {
            "text/plain": [
              "<Figure size 432x288 with 1 Axes>"
            ],
            "image/png": "[encoded data removed]"
          },
          "metadata": {
            "needs_background": "light"
          }
        }
      ]
    },
    {
      "cell_type": "markdown",
      "source": [
        "## Check t-score"
      ],
      "metadata": {
        "id": "FombT_U1nFDm"
      }
    },
    {
      "cell_type": "code",
      "source": [
        "from scipy.stats import ttest_ind, ttest_ind_from_stats"
      ],
      "metadata": {
        "id": "1DOyJb6EnG_-"
      },
      "execution_count": 104,
      "outputs": []
    },
    {
      "cell_type": "code",
      "source": [
        "df_400[\"  RS\"].describe()"
      ],
      "metadata": {
        "colab": {
          "base_uri": "https://localhost:8080/"
        },
        "id": "LMh8_Gn0niCV",
        "outputId": "d988a5fc-1b5f-4877-b2ac-6538076db1a6"
      },
      "execution_count": 107,
      "outputs": [
        {
          "output_type": "execute_result",
          "data": {
            "text/plain": [
              "count    550.000000\n",
              "mean       1.431636\n",
              "std        3.979339\n",
              "min        0.000000\n",
              "25%        0.000000\n",
              "50%        0.000000\n",
              "75%        1.200000\n",
              "max       53.700000\n",
              "Name:   RS, dtype: float64"
            ]
          },
          "metadata": {},
          "execution_count": 107
        }
      ]
    },
    {
      "cell_type": "code",
      "source": [
        "df_3379[\"  RS\"].describe()"
      ],
      "metadata": {
        "colab": {
          "base_uri": "https://localhost:8080/"
        },
        "id": "9knv2BnDnk2x",
        "outputId": "ef6637e9-f0e0-4fc6-af52-ec5dabfb5c6a"
      },
      "execution_count": 108,
      "outputs": [
        {
          "output_type": "execute_result",
          "data": {
            "text/plain": [
              "count    550.000000\n",
              "mean       2.266909\n",
              "std        4.699866\n",
              "min        0.000000\n",
              "25%        0.000000\n",
              "50%        0.000000\n",
              "75%        2.400000\n",
              "max       43.100000\n",
              "Name:   RS, dtype: float64"
            ]
          },
          "metadata": {},
          "execution_count": 108
        }
      ]
    },
    {
      "cell_type": "code",
      "source": [
        "t, p = ttest_ind(df_400[\"  RS\"], df_3379[\"  RS\"], equal_var=False)"
      ],
      "metadata": {
        "id": "I0cjdqrpnSl-"
      },
      "execution_count": 105,
      "outputs": []
    },
    {
      "cell_type": "code",
      "source": [
        "t, p"
      ],
      "metadata": {
        "colab": {
          "base_uri": "https://localhost:8080/"
        },
        "id": "xojKNVxNneE4",
        "outputId": "cacaa69a-ea05-4930-eb77-483ec95e70b1"
      },
      "execution_count": 106,
      "outputs": [
        {
          "output_type": "execute_result",
          "data": {
            "text/plain": [
              "(-3.18092400789478, 0.0015103194818975973)"
            ]
          },
          "metadata": {},
          "execution_count": 106
        }
      ]
    },
    {
      "cell_type": "markdown",
      "source": [
        "## The verdict\n",
        "Using 550 days of data, we can confirm that berlin precipitates significantly less than Munich. In fact, it precipitates on average 3mm less.\n",
        "\n",
        "Though it's interesting to note that the exact kind of precipitation is marked as unknown precipitation in almost all cases."
      ],
      "metadata": {
        "id": "71-MJOrcn1Bh"
      }
    }
  ]
}